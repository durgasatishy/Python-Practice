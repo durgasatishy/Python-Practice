{
 "cells": [
  {
   "cell_type": "markdown",
   "metadata": {},
   "source": [
    "#         #- > will be used to comment code. won't take it as executable.\n",
    "#         {}  - > called places holders.\n",
    "#         Tab - > it will gives us a inteligence kind of functionality."
   ]
  },
  {
   "cell_type": "markdown",
   "metadata": {},
   "source": [
    "# Adding White space to strings:"
   ]
  },
  {
   "cell_type": "code",
   "execution_count": 1,
   "metadata": {},
   "outputs": [
    {
     "name": "stdout",
     "output_type": "stream",
     "text": [
      "python\n"
     ]
    }
   ],
   "source": [
    "print('python')"
   ]
  },
  {
   "cell_type": "code",
   "execution_count": 2,
   "metadata": {},
   "outputs": [
    {
     "name": "stdout",
     "output_type": "stream",
     "text": [
      "Names: Satish\tSandeep\tShresta\n"
     ]
    }
   ],
   "source": [
    "print('names: satish\\tsandeep\\tshresta'.title())"
   ]
  },
  {
   "cell_type": "code",
   "execution_count": 3,
   "metadata": {},
   "outputs": [
    {
     "name": "stdout",
     "output_type": "stream",
     "text": [
      "Names:\n",
      "Satish\n",
      "Sandeep\n",
      "Shresta\n"
     ]
    }
   ],
   "source": [
    "print('names:\\nsatish\\nsandeep\\nshresta'.title())"
   ]
  },
  {
   "cell_type": "code",
   "execution_count": 4,
   "metadata": {},
   "outputs": [
    {
     "name": "stdout",
     "output_type": "stream",
     "text": [
      "Names:\r",
      "Satish\r",
      "Sandeep\r",
      "Shresta\n"
     ]
    }
   ],
   "source": [
    "print('names:\\rsatish\\rsandeep\\rshresta'.title())"
   ]
  },
  {
   "cell_type": "code",
   "execution_count": 5,
   "metadata": {},
   "outputs": [
    {
     "name": "stdout",
     "output_type": "stream",
     "text": [
      "Names:\\S Satish\n"
     ]
    }
   ],
   "source": [
    "print('names:\\s satish'.title())"
   ]
  },
  {
   "cell_type": "code",
   "execution_count": 6,
   "metadata": {},
   "outputs": [
    {
     "name": "stdout",
     "output_type": "stream",
     "text": [
      "Names:\\Satish\\Sandeep\\Shresta\n"
     ]
    }
   ],
   "source": [
    "print('names:\\\\satish\\\\sandeep\\\\shresta'.title())"
   ]
  },
  {
   "cell_type": "code",
   "execution_count": 7,
   "metadata": {},
   "outputs": [
    {
     "name": "stdout",
     "output_type": "stream",
     "text": [
      "Employee:\n",
      "\tSatish\n",
      "\tSandeep\n",
      "\tGanesh\n",
      "\tKartheek!\n"
     ]
    }
   ],
   "source": [
    "print('employee:\\n\\tsatish\\n\\tsandeep\\n\\tganesh\\n\\tkartheek'.title()+'!')"
   ]
  },
  {
   "cell_type": "code",
   "execution_count": 8,
   "metadata": {},
   "outputs": [
    {
     "name": "stdout",
     "output_type": "stream",
     "text": [
      "employee:\n",
      "\tsatish\n",
      "\tsandeep\n",
      "\tganesh\n",
      "\tkartheek!\n"
     ]
    }
   ],
   "source": [
    "print('employee:\\n\\tsatish\\n\\tsandeep\\n\\tganesh\\n\\tkartheek'+'!'.title())"
   ]
  },
  {
   "cell_type": "markdown",
   "metadata": {},
   "source": [
    "#  Concept of White spaces  "
   ]
  },
  {
   "cell_type": "code",
   "execution_count": 9,
   "metadata": {},
   "outputs": [
    {
     "name": "stdout",
     "output_type": "stream",
     "text": [
      "   Sat  ish  \n"
     ]
    }
   ],
   "source": [
    "var2 = '   Sat  ish  '\n",
    "print (var2)"
   ]
  },
  {
   "cell_type": "code",
   "execution_count": 10,
   "metadata": {},
   "outputs": [
    {
     "data": {
      "text/plain": [
       "'   Sat  ish  '"
      ]
     },
     "execution_count": 10,
     "metadata": {},
     "output_type": "execute_result"
    }
   ],
   "source": [
    "var2"
   ]
  },
  {
   "cell_type": "code",
   "execution_count": 11,
   "metadata": {},
   "outputs": [
    {
     "name": "stdout",
     "output_type": "stream",
     "text": [
      "Sat  ish\n"
     ]
    }
   ],
   "source": [
    "   #    Removing white spaces\n",
    "print(var2.strip())\n"
   ]
  },
  {
   "cell_type": "code",
   "execution_count": 12,
   "metadata": {},
   "outputs": [
    {
     "data": {
      "text/plain": [
       "'Sat  ish'"
      ]
     },
     "execution_count": 12,
     "metadata": {},
     "output_type": "execute_result"
    }
   ],
   "source": [
    "var2.strip()"
   ]
  },
  {
   "cell_type": "code",
   "execution_count": 13,
   "metadata": {},
   "outputs": [
    {
     "name": "stdout",
     "output_type": "stream",
     "text": [
      "Sat  ish  \n",
      "   Sat  ish\n",
      "Sat  Ish\n"
     ]
    }
   ],
   "source": [
    "print(var2.lstrip()) , print(var2.rstrip()) ,\n",
    "print(var2.strip().title())"
   ]
  },
  {
   "cell_type": "code",
   "execution_count": 14,
   "metadata": {},
   "outputs": [
    {
     "name": "stdout",
     "output_type": "stream",
     "text": [
      "Sat  ish  \n",
      "   Sat  ish\n",
      "Sat  Ish\n"
     ]
    },
    {
     "data": {
      "text/plain": [
       "(None, None, None)"
      ]
     },
     "execution_count": 14,
     "metadata": {},
     "output_type": "execute_result"
    }
   ],
   "source": [
    "print(var2.lstrip()) , print(var2.rstrip())  , print(var2.strip().title())"
   ]
  },
  {
   "cell_type": "markdown",
   "metadata": {},
   "source": [
    "# Concept of F strings"
   ]
  },
  {
   "cell_type": "markdown",
   "metadata": {},
   "source": [
    ">We can assign/call a (main)variable by calling other variables with in main variable. \n",
    "\n",
    "The letter ‘f’ precedes the string, and the variables are mentioned in curly braces in their places.\n"
   ]
  },
  {
   "cell_type": "code",
   "execution_count": 20,
   "metadata": {},
   "outputs": [
    {
     "name": "stdout",
     "output_type": "stream",
     "text": [
      "It isn't Ayushi's birthday\n"
     ]
    }
   ],
   "source": [
    " >>> name='Ayushi'\n",
    " print(f\"It isn't {name}'s birthday\")"
   ]
  },
  {
   "cell_type": "code",
   "execution_count": 22,
   "metadata": {},
   "outputs": [
    {
     "name": "stdout",
     "output_type": "stream",
     "text": [
      " I Dont Know Ayushi, It Isn'T Ayushi'S Birthday - Ayushi\n"
     ]
    }
   ],
   "source": [
    ">>> name='ayushi'\n",
    ">>> print(f\" I dont know {name}, It isn't {name}'s birthday - {name}\".title())"
   ]
  },
  {
   "cell_type": "code",
   "execution_count": null,
   "metadata": {},
   "outputs": [],
   "source": []
  },
  {
   "cell_type": "code",
   "execution_count": null,
   "metadata": {},
   "outputs": [],
   "source": []
  }
 ],
 "metadata": {
  "kernelspec": {
   "display_name": "Python 3",
   "language": "python",
   "name": "python3"
  },
  "language_info": {
   "codemirror_mode": {
    "name": "ipython",
    "version": 3
   },
   "file_extension": ".py",
   "mimetype": "text/x-python",
   "name": "python",
   "nbconvert_exporter": "python",
   "pygments_lexer": "ipython3",
   "version": "3.7.4"
  }
 },
 "nbformat": 4,
 "nbformat_minor": 2
}
